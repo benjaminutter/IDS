{
  "nbformat": 4,
  "nbformat_minor": 0,
  "metadata": {
    "colab": {
      "provenance": [],
      "authorship_tag": "ABX9TyMN9I3ykJsjye6N7/IQtTwO",
      "include_colab_link": true
    },
    "kernelspec": {
      "name": "python3",
      "display_name": "Python 3"
    },
    "language_info": {
      "name": "python"
    }
  },
  "cells": [
    {
      "cell_type": "markdown",
      "metadata": {
        "id": "view-in-github",
        "colab_type": "text"
      },
      "source": [
        "<a href=\"https://colab.research.google.com/github/benjaminutter/IDS/blob/Project4/Problem1P.ipynb\" target=\"_parent\"><img src=\"https://colab.research.google.com/assets/colab-badge.svg\" alt=\"Open In Colab\"/></a>"
      ]
    },
    {
      "cell_type": "markdown",
      "source": [
        "Starting the upload of data"
      ],
      "metadata": {
        "id": "b-Bu-1bUv1VK"
      }
    },
    {
      "cell_type": "code",
      "execution_count": 1,
      "metadata": {
        "id": "zRu1hR4CvXOG"
      },
      "outputs": [],
      "source": [
        "# importing\n",
        "import pandas as pd\n",
        "import matplotlib.pyplot as plt\n",
        "\n",
        "# csv file variable\n",
        "url = \"https://raw.githubusercontent.com/bforoura/IDS/main/HW4/adult_training.csv\"\n",
        "\n",
        "# reading the data\n",
        "df = pd.read_csv(url)\n"
      ]
    },
    {
      "cell_type": "markdown",
      "source": [
        "Sex and workclass contingency table"
      ],
      "metadata": {
        "id": "255ipyc2jOX2"
      }
    },
    {
      "cell_type": "code",
      "source": [
        "# create contingency table\n",
        "c_table = pd.crosstab(df['workclass'], df['sex'])\n",
        "\n",
        "# print contingency table\n",
        "print(c_table)"
      ],
      "metadata": {
        "colab": {
          "base_uri": "https://localhost:8080/"
        },
        "id": "ymm5eX1mjNgj",
        "outputId": "5df00b24-2763-47fd-8e19-0ab5d4e1bdfa"
      },
      "execution_count": 3,
      "outputs": [
        {
          "output_type": "stream",
          "name": "stdout",
          "text": [
            "sex               Female  Male\n",
            "workclass                     \n",
            "?                    377   452\n",
            "Federal-gov          149   305\n",
            "Local-gov            377   592\n",
            "Never-worked           1     4\n",
            "Private             3574  6707\n",
            "Self-emp-inc          54   444\n",
            "Self-emp-not-inc     178   992\n",
            "State-gov            201   385\n",
            "Without-pay            1     4\n"
          ]
        }
      ]
    },
    {
      "cell_type": "markdown",
      "source": [
        "Sex and marital status contingency table"
      ],
      "metadata": {
        "id": "shY0_S2Fkvi0"
      }
    },
    {
      "cell_type": "code",
      "source": [
        "# create contingency table\n",
        "c_table = pd.crosstab(df['sex'], df['marital-status'])\n",
        "\n",
        "# print contingency table\n",
        "print(c_table)"
      ],
      "metadata": {
        "colab": {
          "base_uri": "https://localhost:8080/"
        },
        "id": "Aa3lekaRk05X",
        "outputId": "8b439c1c-5442-408a-f4a5-46367415921e"
      },
      "execution_count": 7,
      "outputs": [
        {
          "output_type": "stream",
          "name": "stdout",
          "text": [
            "marital-status  Divorced  Married-AF-spouse  Married-civ-spouse  \\\n",
            "sex                                                               \n",
            "Female              1219                  7                 761   \n",
            "Male                 795                  4                6010   \n",
            "\n",
            "marital-status  Married-spouse-absent  Never-married  Separated  Widowed  \n",
            "sex                                                                       \n",
            "Female                             95           2160        290      380  \n",
            "Male                              104           2717        182       73  \n"
          ]
        }
      ]
    },
    {
      "cell_type": "markdown",
      "source": [
        "Creating adult over 40 data frame\n"
      ],
      "metadata": {
        "id": "fcQnpAx8m9Mo"
      }
    },
    {
      "cell_type": "code",
      "source": [
        "adultOver40 = df[df['age'] > 40]"
      ],
      "metadata": {
        "id": "MwwPrdyRnAHL"
      },
      "execution_count": 8,
      "outputs": []
    },
    {
      "cell_type": "markdown",
      "source": [
        "Recreating contingency table with adult over 40"
      ],
      "metadata": {
        "id": "B61N6DprpOH4"
      }
    },
    {
      "cell_type": "code",
      "source": [
        "# create contingency table\n",
        "c_table = pd.crosstab(adultOver40['sex'], adultOver40['marital-status'])\n",
        "\n",
        "# print contingency table\n",
        "print(c_table)"
      ],
      "metadata": {
        "colab": {
          "base_uri": "https://localhost:8080/"
        },
        "id": "etjA1P9TqJv1",
        "outputId": "29780522-742b-4785-df3a-03259ff1cdf7"
      },
      "execution_count": 9,
      "outputs": [
        {
          "output_type": "stream",
          "name": "stdout",
          "text": [
            "marital-status  Divorced  Married-civ-spouse  Married-spouse-absent  \\\n",
            "sex                                                                   \n",
            "Female               720                 305                     38   \n",
            "Male                 448                3383                     47   \n",
            "\n",
            "marital-status  Never-married  Separated  Widowed  \n",
            "sex                                                \n",
            "Female                    256        133      354  \n",
            "Male                      315         74       71  \n"
          ]
        }
      ]
    },
    {
      "cell_type": "markdown",
      "source": [
        "Determining whether there are outliers in education:\n",
        "\n",
        "As you can see, there is points outside of the whiskers so there are outliers in the education column."
      ],
      "metadata": {
        "id": "W8XeFd22rfgx"
      }
    },
    {
      "cell_type": "code",
      "source": [
        "education_data = df['education']\n",
        "\n",
        "# Create a boxplot\n",
        "plt.figure(figsize=(8, 6))\n",
        "plt.boxplot(education_data, vert=True)\n",
        "plt.xlabel('Education')\n",
        "plt.show()"
      ],
      "metadata": {
        "colab": {
          "base_uri": "https://localhost:8080/",
          "height": 542
        },
        "id": "bPMDC-iGtjm1",
        "outputId": "7d748391-941e-49fa-f911-e3794610e11a"
      },
      "execution_count": 12,
      "outputs": [
        {
          "output_type": "display_data",
          "data": {
            "text/plain": [
              "<Figure size 800x600 with 1 Axes>"
            ],
            "image/png": "[encoded data removed]"
          },
          "metadata": {}
        }
      ]
    },
    {
      "cell_type": "markdown",
      "source": [
        "Standardizing (zero mean) the age variable, and identifying how many outliers there are.\n",
        "\n",
        "As you can see, there are 60 outliers from the 3 standard deviation method, and the most extreme is 90 years old."
      ],
      "metadata": {
        "id": "BC7LCOX3u-ln"
      }
    },
    {
      "cell_type": "code",
      "source": [
        "age_data = df['age']\n",
        "\n",
        "# standardize age\n",
        "mean_age = age_data.mean()\n",
        "std_dev_age = age_data.std()\n",
        "standardized_age = (age_data - mean_age) / std_dev_age\n",
        "\n",
        "# 3 standard deviations\n",
        "threshold = 3\n",
        "\n",
        "# identify outliers\n",
        "outliers = age_data[(standardized_age < -threshold) | (standardized_age > threshold)]\n",
        "\n",
        "# print\n",
        "print(\"Number of outliers:\", len(outliers))\n",
        "print(\"Most extreme outlier:\", age_data[outliers.idxmax()])"
      ],
      "metadata": {
        "colab": {
          "base_uri": "https://localhost:8080/"
        },
        "id": "JtGOJhv9u_sZ",
        "outputId": "30abad04-622b-4c05-f6fd-28e6771c65bc"
      },
      "execution_count": 14,
      "outputs": [
        {
          "output_type": "stream",
          "name": "stdout",
          "text": [
            "Number of outliers: 60\n",
            "Most extreme outlier: 90\n"
          ]
        }
      ]
    },
    {
      "cell_type": "markdown",
      "source": [
        "Histogram with age anomaly of 80+"
      ],
      "metadata": {
        "id": "cNlr_roFwZ0r"
      }
    },
    {
      "cell_type": "code",
      "source": [
        "# creating the 80+ df\n",
        "eighty = df[df['age'] >= 80]\n",
        "\n",
        "# histogram of age 80+\n",
        "plt.figure(figsize=(8, 6))\n",
        "plt.hist(eighty['age'], bins=5, edgecolor='black', alpha=0.7)\n",
        "plt.xlabel('Age')\n",
        "plt.ylabel('Count')\n",
        "plt.title('Age over 80')\n",
        "plt.show()"
      ],
      "metadata": {
        "colab": {
          "base_uri": "https://localhost:8080/",
          "height": 564
        },
        "id": "BT0hMk9QwaV7",
        "outputId": "b3b33636-0b2d-4a33-975e-c5d4542bc880"
      },
      "execution_count": 16,
      "outputs": [
        {
          "output_type": "display_data",
          "data": {
            "text/plain": [
              "<Figure size 800x600 with 1 Axes>"
            ],
            "image/png": "[encoded data removed]"
          },
          "metadata": {}
        }
      ]
    },
    {
      "cell_type": "markdown",
      "source": [
        "From the histogram, I was able to see the frequency of people with ages over 80. Tied for the most frequent were the age groups of 80-82 and 88-90. In between those groups, there are not nearly as many people. The outlier of 90 is also shown in this histogram."
      ],
      "metadata": {
        "id": "LP3dVZBxyde5"
      }
    }
  ]
}