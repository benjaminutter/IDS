{
  "nbformat": 4,
  "nbformat_minor": 0,
  "metadata": {
    "colab": {
      "provenance": [],
      "authorship_tag": "ABX9TyOr9Z4jXy61l6Is6yOhfPZd",
      "include_colab_link": true
    },
    "kernelspec": {
      "name": "ir",
      "display_name": "R"
    },
    "language_info": {
      "name": "R"
    }
  },
  "cells": [
    {
      "cell_type": "markdown",
      "metadata": {
        "id": "view-in-github",
        "colab_type": "text"
      },
      "source": [
        "<a href=\"https://colab.research.google.com/github/benjaminutter/IDS/blob/Project4/Problem2R.ipynb\" target=\"_parent\"><img src=\"https://colab.research.google.com/assets/colab-badge.svg\" alt=\"Open In Colab\"/></a>"
      ]
    },
    {
      "cell_type": "markdown",
      "source": [
        "Importing and reading the data:"
      ],
      "metadata": {
        "id": "Xmx8kEqMy1J1"
      }
    },
    {
      "cell_type": "code",
      "execution_count": 20,
      "metadata": {
        "id": "2fcLAbbKxmXJ"
      },
      "outputs": [],
      "source": [
        "library(readr)\n",
        "\n",
        "# Github URL\n",
        "url <- \"https://raw.githubusercontent.com/bforoura/IDS/main/HW4/nutrition_subset.csv\"\n",
        "\n",
        "# read data from the URL\n",
        "data <- read.csv(url)"
      ]
    },
    {
      "cell_type": "markdown",
      "source": [
        "Sorting by saturated fat and showing five foods with highest saturated fat:"
      ],
      "metadata": {
        "id": "TfY7ZuG_y4qQ"
      }
    },
    {
      "cell_type": "code",
      "source": [
        "# sort in descending order and show top 5\n",
        "top_sfat_foods <- head(data[order(data$saturated_fat, decreasing = TRUE), ], 5)\n",
        "\n",
        "# print top 5\n",
        "print(top_sfat_foods)\n"
      ],
      "metadata": {
        "id": "V8Z15rcbzBZF",
        "outputId": "bd975871-441b-4598-c0a4-da222ed308e1",
        "colab": {
          "base_uri": "https://localhost:8080/"
        }
      },
      "execution_count": 21,
      "outputs": [
        {
          "output_type": "stream",
          "name": "stdout",
          "text": [
            "                                 food.item weight_in_grams saturated_fat\n",
            "379 CHEESECAKE                    1 CAKE              1110         119.9\n",
            "536 ICE CREAM; VANLLA; RICH 16% FT1/2 GAL             1188         118.3\n",
            "459 YELLOWCAKE W/ CHOCFRSTNG;COMML1 CAKE              1108          92.0\n",
            "582 CREME PIE                     1 PIE                910          90.1\n",
            "891 LARD                          1 CUP                205          80.4\n",
            "    cholesterol\n",
            "379        2053\n",
            "536         703\n",
            "459         609\n",
            "582          46\n",
            "891         195\n"
          ]
        }
      ]
    },
    {
      "cell_type": "markdown",
      "source": [
        "The validity of this top 5 may be a little off because of the fact that the measurements of these foods are different. Instead, we should have measured the amount of saturated fat divided by a standard unit."
      ],
      "metadata": {
        "id": "ZuyMYotf_D6X"
      }
    },
    {
      "cell_type": "markdown",
      "source": [
        "Creating a new variable saturated fat per gram and sorting by this variable:"
      ],
      "metadata": {
        "id": "hQDUf9Uy_j8j"
      }
    },
    {
      "cell_type": "code",
      "source": [
        "# calculating saturated fat per gram\n",
        "data$sfat_per_g <- data$saturated_fat / data$weight_in_grams\n",
        "\n",
        "# sort by saturated fat per gram and get top 5\n",
        "top_sfat_per_g <- head(data[order(data$sfat_per_g, decreasing = TRUE), ], 5)\n",
        "\n",
        "# print top 5\n",
        "print(top_sfat_per_g)\n"
      ],
      "metadata": {
        "colab": {
          "base_uri": "https://localhost:8080/"
        },
        "id": "4rPmy2jx9tr9",
        "outputId": "bbfe4c30-892f-428f-8598-f8f22c966836"
      },
      "execution_count": 22,
      "outputs": [
        {
          "output_type": "stream",
          "name": "stdout",
          "text": [
            "                                 food.item weight_in_grams saturated_fat\n",
            "909 BUTTER; SALTED                1 TBSP                14           7.1\n",
            "910 BUTTER; UNSALTED              1 TBSP                14           7.1\n",
            "710 BUTTER; SALTED                1/2 CUP              113          57.1\n",
            "711 BUTTER; UNSALTED              1/2 CUP              113          57.1\n",
            "913 BUTTER; SALTED                1 PAT                  5           2.5\n",
            "    cholesterol sfat_per_g\n",
            "909          31  0.5071429\n",
            "910          31  0.5071429\n",
            "710         247  0.5053097\n",
            "711         247  0.5053097\n",
            "913          11  0.5000000\n"
          ]
        }
      ]
    },
    {
      "cell_type": "markdown",
      "source": [
        "Standardizing saturated fat per gram and showing the outliers:"
      ],
      "metadata": {
        "id": "_M68iTsDVTs3"
      }
    },
    {
      "cell_type": "code",
      "source": [
        "# standardizing saturated fat per gram\n",
        "data$sfat_per_g_standard <- scale(data$sfat_per_g)\n",
        "\n",
        "threshold <- 3\n",
        "# identifying outliers using threshold\n",
        "low_outliers <- data$sfat_per_g_standard < threshold\n",
        "high_outliers <- data[data$sfat_per_g_standard > threshold, ]\n",
        "\n",
        "# print list of high outliers\n",
        "print(high_outliers)\n",
        "\n",
        "# count num of low outliers\n",
        "num_low_outliers <- sum(low_outliers)\n",
        "\n",
        "# print num of low outliers\n",
        "cat(\"Number of low-end outliers:\", num_low_outliers)\n"
      ],
      "metadata": {
        "colab": {
          "base_uri": "https://localhost:8080/"
        },
        "id": "HYv8lQkBVivW",
        "outputId": "ff4c6b06-d5af-4786-fddc-e5a282523a1c"
      },
      "execution_count": 26,
      "outputs": [
        {
          "output_type": "stream",
          "name": "stdout",
          "text": [
            "                                 food.item weight_in_grams saturated_fat\n",
            "211 CHOCOLATE; BITTER OT BAKING   1 OZ               28.35           9.0\n",
            "449 COCONUT; RAW; SHREDDED        1 CUP              80.00          23.8\n",
            "493 COCONUT; DRIED; SWEETND;SHREDD1 CUP              93.00          29.3\n",
            "577 COCONUT; RAW; PIECE           1 PIECE            45.00          13.4\n",
            "710 BUTTER; SALTED                1/2 CUP           113.00          57.1\n",
            "711 BUTTER; UNSALTED              1/2 CUP           113.00          57.1\n",
            "891 LARD                          1 CUP             205.00          80.4\n",
            "899 FATS; COOKING/VEGETBL SHORTENG1 TBSP             13.00           3.3\n",
            "900 LARD                          1 TBSP             13.00           5.1\n",
            "908 FATS; COOKING/VEGETBL SHORTENG1 CUP             205.00          51.3\n",
            "909 BUTTER; SALTED                1 TBSP             14.00           7.1\n",
            "910 BUTTER; UNSALTED              1 TBSP             14.00           7.1\n",
            "913 BUTTER; SALTED                1 PAT               5.00           2.5\n",
            "914 BUTTER; UNSALTED              1 PAT               5.00           2.5\n",
            "921 IMITATION CREAMERS; POWDERED  1 TSP               2.00           0.7\n",
            "    cholesterol sfat_per_g sfat_per_g_standard\n",
            "211           0  0.3174603            4.238469\n",
            "449           0  0.2975000            3.936637\n",
            "493           0  0.3150538            4.202078\n",
            "577           0  0.2977778            3.940837\n",
            "710         247  0.5053097            7.079055\n",
            "711         247  0.5053097            7.079055\n",
            "891         195  0.3921951            5.368580\n",
            "899           0  0.2538462            3.276520\n",
            "900          12  0.3923077            5.370282\n",
            "908           0  0.2502439            3.222049\n",
            "909          31  0.5071429            7.106775\n",
            "910          31  0.5071429            7.106775\n",
            "913          11  0.5000000            6.998763\n",
            "914          11  0.5000000            6.998763\n",
            "921           0  0.3500000            4.730522\n",
            "Number of low-end outliers: 946"
          ]
        }
      ]
    },
    {
      "cell_type": "markdown",
      "source": [
        "Density plot for saturate fat per gram:"
      ],
      "metadata": {
        "id": "2IpxRCZgtw6S"
      }
    },
    {
      "cell_type": "code",
      "source": [
        "library(ggplot2)\n",
        "\n",
        "# density plot for saturated fat per gram\n",
        "ggplot(data, aes(x = sfat_per_g)) +\n",
        "  geom_density(fill = \"blue\", color = \"black\")\n"
      ],
      "metadata": {
        "colab": {
          "base_uri": "https://localhost:8080/",
          "height": 437
        },
        "id": "9DPLtLtFtpQw",
        "outputId": "19010dad-090b-4002-84a0-cbba40bb3569"
      },
      "execution_count": 28,
      "outputs": [
        {
          "output_type": "display_data",
          "data": {
            "text/plain": [
              "plot without title"
            ],
            "image/png": "[encoded data removed]"
          },
          "metadata": {
            "image/png": {
              "width": 420,
              "height": 420
            }
          }
        }
      ]
    },
    {
      "cell_type": "markdown",
      "source": [],
      "metadata": {
        "id": "S9huf3S6vumT"
      }
    }
  ]
}