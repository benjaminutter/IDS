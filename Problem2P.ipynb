{
  "nbformat": 4,
  "nbformat_minor": 0,
  "metadata": {
    "colab": {
      "provenance": [],
      "authorship_tag": "ABX9TyP8vLmgYFad8h6Ea2NvePCT",
      "include_colab_link": true
    },
    "kernelspec": {
      "name": "python3",
      "display_name": "Python 3"
    },
    "language_info": {
      "name": "python"
    }
  },
  "cells": [
    {
      "cell_type": "markdown",
      "metadata": {
        "id": "view-in-github",
        "colab_type": "text"
      },
      "source": [
        "<a href=\"https://colab.research.google.com/github/benjaminutter/IDS/blob/Project4/Problem2P.ipynb\" target=\"_parent\"><img src=\"https://colab.research.google.com/assets/colab-badge.svg\" alt=\"Open In Colab\"/></a>"
      ]
    },
    {
      "cell_type": "markdown",
      "source": [
        "Importing data from GitHub"
      ],
      "metadata": {
        "id": "A7Hagk4kgB7Q"
      }
    },
    {
      "cell_type": "code",
      "execution_count": null,
      "metadata": {
        "id": "hhRMzFDF1UrP"
      },
      "outputs": [],
      "source": [
        "import pandas as pd\n",
        "import matplotlib.pyplot as plt\n",
        "\n",
        "# url of csv\n",
        "data_url = \"https://raw.githubusercontent.com/bforoura/IDS/main/HW4/nutrition_subset.csv\"\n",
        "\n",
        "# put into df\n",
        "df = pd.read_csv(data_url)"
      ]
    },
    {
      "cell_type": "markdown",
      "source": [
        "Sorting by saturated fat and showing the top 5 highest"
      ],
      "metadata": {
        "id": "rSB8aksNg9Wi"
      }
    },
    {
      "cell_type": "code",
      "source": [
        "# sort df by saturated fat in descending order\n",
        "sorted_df = df.sort_values(by='saturated_fat', ascending=False)\n",
        "\n",
        "# get top 5\n",
        "top_5_saturated_fat = sorted_df.head(5)\n",
        "\n",
        "# print top 5\n",
        "print(top_5_saturated_fat[['food item', 'saturated_fat']])\n"
      ],
      "metadata": {
        "colab": {
          "base_uri": "https://localhost:8080/"
        },
        "id": "mndEFmMHg9D3",
        "outputId": "f8d77634-1277-4c74-8492-cfad963b482d"
      },
      "execution_count": null,
      "outputs": [
        {
          "output_type": "stream",
          "name": "stdout",
          "text": [
            "                                  food item  saturated_fat\n",
            "378  CHEESECAKE                    1 CAKE            119.9\n",
            "535  ICE CREAM; VANLLA; RICH 16% FT1/2 GAL           118.3\n",
            "458  YELLOWCAKE W/ CHOCFRSTNG;COMML1 CAKE             92.0\n",
            "581  CREME PIE                     1 PIE              90.1\n",
            "890  LARD                          1 CUP              80.4\n"
          ]
        }
      ]
    },
    {
      "cell_type": "markdown",
      "source": [
        "The validity of this top 5 may be a little off because of the fact that the measurements of these foods are different. Instead, we should have measured the amount of saturated fat divided by a standard unit."
      ],
      "metadata": {
        "id": "xn3WHHnxyaCZ"
      }
    },
    {
      "cell_type": "markdown",
      "source": [
        "Saturated fat per gram data frame and showing the top 5 foods of this category\n"
      ],
      "metadata": {
        "id": "wrnI-ghcz0CF"
      }
    },
    {
      "cell_type": "code",
      "source": [
        "# new df sfat per gram\n",
        "df['sfat_per_g'] = df['saturated_fat'] / df['weight_in_grams']\n",
        "\n",
        "# sorting in descending order\n",
        "sorted_df = df.sort_values(by='sfat_per_g', ascending=False)\n",
        "\n",
        "# getting  top 5\n",
        "top5_sfat_perg = sorted_df.head(5)\n",
        "\n",
        "# Print the top 5 food items\n",
        "print(top5_sfat_perg[['food item', 'sfat_per_g']])\n"
      ],
      "metadata": {
        "colab": {
          "base_uri": "https://localhost:8080/"
        },
        "id": "XA8qXm6Wz11O",
        "outputId": "cb8b248a-c64b-46f7-9651-d675c49285db"
      },
      "execution_count": null,
      "outputs": [
        {
          "output_type": "stream",
          "name": "stdout",
          "text": [
            "                                  food item  sfat_per_g\n",
            "908  BUTTER; SALTED                1 TBSP      0.507143\n",
            "909  BUTTER; UNSALTED              1 TBSP      0.507143\n",
            "710  BUTTER; UNSALTED              1/2 CUP     0.505310\n",
            "709  BUTTER; SALTED                1/2 CUP     0.505310\n",
            "913  BUTTER; UNSALTED              1 PAT       0.500000\n"
          ]
        }
      ]
    },
    {
      "cell_type": "markdown",
      "source": [
        "Standardizing saturated fat per gram and showing the outliers."
      ],
      "metadata": {
        "id": "jStLaRpa1mgM"
      }
    },
    {
      "cell_type": "code",
      "source": [
        "import seaborn as sns\n",
        "\n",
        "# standardizing sfat_per_g\n",
        "mean_sfat_per_g = df['sfat_per_g'].mean()\n",
        "stddev_sfat_per_g = df['sfat_per_g'].std()\n",
        "df['standardized_saturated_fat_per_gram'] = (df['sfat_per_g'] - mean_sfat_per_g) / stddev_sfat_per_g\n",
        "\n",
        "# std dev threshold\n",
        "threshold = 3\n",
        "\n",
        "# high outliers\n",
        "high_outliers = df[df['standardized_saturated_fat_per_gram'] > threshold]\n",
        "\n",
        "# low outliers\n",
        "low_outliers = df[df['standardized_saturated_fat_per_gram'] < -threshold]\n",
        "\n",
        "# print outliers\n",
        "print(\"High-end outliers (food items):\")\n",
        "print(high_outliers[['food item', 'sfat_per_g']])\n",
        "\n",
        "# counting low end\n",
        "low_count = len(low_outliers)\n",
        "print(f\"\\nNumber of low-end outliers: {low_count}\\n\")\n",
        "\n",
        "# density plot\n",
        "plt.figure(figsize=(8, 6))\n",
        "sns.kdeplot(df['sfat_per_g'], shade=True)\n",
        "plt.xlabel('Saturated Fat per Gram')\n",
        "plt.ylabel('Density')\n",
        "plt.title('Density Plot of Saturated Fat per Gram')\n",
        "plt.show()\n"
      ],
      "metadata": {
        "colab": {
          "base_uri": "https://localhost:8080/",
          "height": 1000
        },
        "id": "CAWxKINN1mUJ",
        "outputId": "3f72dc2d-a420-48e7-c47c-38da9a6dd89c"
      },
      "execution_count": null,
      "outputs": [
        {
          "output_type": "stream",
          "name": "stdout",
          "text": [
            "High-end outliers (food items):\n",
            "                                  food item  sfat_per_g\n",
            "210  CHOCOLATE; BITTER OT BAKING   1 OZ        0.317460\n",
            "448  COCONUT; RAW; SHREDDED        1 CUP       0.297500\n",
            "492  COCONUT; DRIED; SWEETND;SHREDD1 CUP       0.315054\n",
            "576  COCONUT; RAW; PIECE           1 PIECE     0.297778\n",
            "709  BUTTER; SALTED                1/2 CUP     0.505310\n",
            "710  BUTTER; UNSALTED              1/2 CUP     0.505310\n",
            "890  LARD                          1 CUP       0.392195\n",
            "898  FATS; COOKING/VEGETBL SHORTENG1 TBSP      0.253846\n",
            "899  LARD                          1 TBSP      0.392308\n",
            "907  FATS; COOKING/VEGETBL SHORTENG1 CUP       0.250244\n",
            "908  BUTTER; SALTED                1 TBSP      0.507143\n",
            "909  BUTTER; UNSALTED              1 TBSP      0.507143\n",
            "912  BUTTER; SALTED                1 PAT       0.500000\n",
            "913  BUTTER; UNSALTED              1 PAT       0.500000\n",
            "920  IMITATION CREAMERS; POWDERED  1 TSP       0.350000\n",
            "\n",
            "Number of low-end outliers: 0\n",
            "\n"
          ]
        },
        {
          "output_type": "stream",
          "name": "stderr",
          "text": [
            "<ipython-input-15-66108b0bf881>:27: FutureWarning: \n",
            "\n",
            "`shade` is now deprecated in favor of `fill`; setting `fill=True`.\n",
            "This will become an error in seaborn v0.14.0; please update your code.\n",
            "\n",
            "  sns.kdeplot(df['sfat_per_g'], shade=True)\n"
          ]
        },
        {
          "output_type": "display_data",
          "data": {
            "text/plain": [
              "<Figure size 800x600 with 1 Axes>"
            ],
            "image/png": "[encoded data removed]"
          },
          "metadata": {}
        }
      ]
    }
  ]
}