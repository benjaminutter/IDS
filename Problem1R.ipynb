{
  "nbformat": 4,
  "nbformat_minor": 0,
  "metadata": {
    "colab": {
      "provenance": [],
      "authorship_tag": "ABX9TyOcGY8aXBIpdPqcE/yHORLA",
      "include_colab_link": true
    },
    "kernelspec": {
      "name": "ir",
      "display_name": "R"
    },
    "language_info": {
      "name": "R"
    }
  },
  "cells": [
    {
      "cell_type": "markdown",
      "metadata": {
        "id": "view-in-github",
        "colab_type": "text"
      },
      "source": [
        "<a href=\"https://colab.research.google.com/github/benjaminutter/IDS/blob/Project4/Problem1R.ipynb\" target=\"_parent\"><img src=\"https://colab.research.google.com/assets/colab-badge.svg\" alt=\"Open In Colab\"/></a>"
      ]
    },
    {
      "cell_type": "markdown",
      "source": [
        "Sex and Work class contingency table:\n"
      ],
      "metadata": {
        "id": "W31_94yViNyl"
      }
    },
    {
      "cell_type": "code",
      "execution_count": 16,
      "metadata": {
        "colab": {
          "base_uri": "https://localhost:8080/"
        },
        "id": "vLc6nFiKe1sy",
        "outputId": "b6000363-78b2-4060-b097-d76349a92502"
      },
      "outputs": [
        {
          "output_type": "stream",
          "name": "stdout",
          "text": [
            "                  \n",
            "                   Female Male\n",
            "  ?                   377  452\n",
            "  Federal-gov         149  305\n",
            "  Local-gov           377  592\n",
            "  Never-worked          1    4\n",
            "  Private            3574 6707\n",
            "  Self-emp-inc         54  444\n",
            "  Self-emp-not-inc    178  992\n",
            "  State-gov           201  385\n",
            "  Without-pay           1    4\n"
          ]
        }
      ],
      "source": [
        "library(readr)\n",
        "\n",
        "# Github URL\n",
        "url <- \"https://raw.githubusercontent.com/bforoura/IDS/main/HW4/adult_training.csv\"\n",
        "\n",
        "# read data from the URL\n",
        "data <- read.csv(url)\n",
        "\n",
        "# create a contingency table\n",
        "c_table <- table(data$workclass, data$sex)\n",
        "\n",
        "# print table\n",
        "print(c_table)\n"
      ]
    },
    {
      "cell_type": "markdown",
      "source": [
        "Sex and marital status contingency table:"
      ],
      "metadata": {
        "id": "w4wLTVU5iT4c"
      }
    },
    {
      "cell_type": "code",
      "source": [
        "library(readr)\n",
        "\n",
        "# Github URL\n",
        "url <- \"https://raw.githubusercontent.com/bforoura/IDS/main/HW4/adult_training.csv\"\n",
        "\n",
        "# read data from the URL\n",
        "data <- read.csv(url)\n",
        "\n",
        "# create a contingency table\n",
        "c_table<- table(data$sex, data$marital.status)\n",
        "\n",
        "# print table\n",
        "print(c_table)\n"
      ],
      "metadata": {
        "colab": {
          "base_uri": "https://localhost:8080/"
        },
        "id": "pVzYvpvxiM2N",
        "outputId": "16d0241b-e916-4db1-c8a7-3f02d8207560"
      },
      "execution_count": 15,
      "outputs": [
        {
          "output_type": "stream",
          "name": "stdout",
          "text": [
            "        \n",
            "         Divorced Married-AF-spouse Married-civ-spouse Married-spouse-absent\n",
            "  Female     1219                 7                761                    95\n",
            "  Male        795                 4               6010                   104\n",
            "        \n",
            "         Never-married Separated Widowed\n",
            "  Female          2160       290     380\n",
            "  Male            2717       182      73\n"
          ]
        }
      ]
    },
    {
      "cell_type": "markdown",
      "source": [
        "Creating adult over 40 data frame:\n"
      ],
      "metadata": {
        "id": "b3goGTCJlGxh"
      }
    },
    {
      "cell_type": "code",
      "source": [
        "adultOver40 <- data[data$age > 40,]"
      ],
      "metadata": {
        "id": "KyPhCC2QlI31"
      },
      "execution_count": 43,
      "outputs": []
    },
    {
      "cell_type": "markdown",
      "source": [
        "Recreating the contingency table with adult over 40:"
      ],
      "metadata": {
        "id": "LmQfhf7UlM_e"
      }
    },
    {
      "cell_type": "code",
      "source": [
        "# create contingency table\n",
        "c_table <- table(adultOver40$sex, adultOver40$marital.status)\n",
        "\n",
        "# display contingency table\n",
        "print(c_table)"
      ],
      "metadata": {
        "colab": {
          "base_uri": "https://localhost:8080/"
        },
        "id": "F2RoJ76FlSAq",
        "outputId": "afa42a39-f0e3-4cd0-b236-e9be1c477dd1"
      },
      "execution_count": 24,
      "outputs": [
        {
          "output_type": "stream",
          "name": "stdout",
          "text": [
            "        \n",
            "         Divorced Married-civ-spouse Married-spouse-absent Never-married\n",
            "  Female      720                305                    38           256\n",
            "  Male        448               3383                    47           315\n",
            "        \n",
            "         Separated Widowed\n",
            "  Female       133     354\n",
            "  Male          74      71\n"
          ]
        }
      ]
    },
    {
      "cell_type": "markdown",
      "source": [
        "Determining whether there is outliers for education:\n",
        "\n",
        "As you can see, there is points outside of the whiskers so there are outliers in the education column."
      ],
      "metadata": {
        "id": "gmwQ4yLRoZ0P"
      }
    },
    {
      "cell_type": "code",
      "source": [
        "boxplot(data$education)"
      ],
      "metadata": {
        "colab": {
          "base_uri": "https://localhost:8080/",
          "height": 437
        },
        "id": "DPaT02GOocqv",
        "outputId": "65c1c8c9-3ec5-479b-8f6b-fd30a687751a"
      },
      "execution_count": 26,
      "outputs": [
        {
          "output_type": "display_data",
          "data": {
            "text/plain": [
              "plot without title"
            ],
            "image/png": "[encoded data removed]"
          },
          "metadata": {
            "image/png": {
              "width": 420,
              "height": 420
            }
          }
        }
      ]
    },
    {
      "cell_type": "markdown",
      "source": [
        " Standardizing (zero mean) the age variable, and identifying how many outliers there are.\n",
        "\n",
        " As you can see, there are 60 outliers from the 3 standard deviation method, and the most extreme is 90 years old."
      ],
      "metadata": {
        "id": "vjt7mWrVpjKb"
      }
    },
    {
      "cell_type": "code",
      "source": [
        "# standardizing age\n",
        "data$age_standardized <- scale(data$age)\n",
        "\n",
        "# 3 standard deviations\n",
        "outliers <- abs(data$age_standardized) > 3\n",
        "\n",
        "# count of outliers\n",
        "num_outliers <- sum(outliers)\n",
        "\n",
        "# print number of outliers\n",
        "cat(\"Number of outliers:\", num_outliers, \"\\n\")\n",
        "\n",
        "# find most extreme\n",
        "most_extreme_age <- max(data$age)\n",
        "\n",
        "# print most extreme\n",
        "cat(\"Most extreme age:\", most_extreme_age, \"\\n\")\n"
      ],
      "metadata": {
        "colab": {
          "base_uri": "https://localhost:8080/"
        },
        "id": "AueovbgHqUZQ",
        "outputId": "19eb2dc0-9732-4538-9a1a-8b0f078962e3"
      },
      "execution_count": 44,
      "outputs": [
        {
          "output_type": "stream",
          "name": "stdout",
          "text": [
            "Number of outliers: 60 \n",
            "Most extreme age: 90 \n"
          ]
        }
      ]
    },
    {
      "cell_type": "markdown",
      "source": [
        "Histogram with age anomaly of 80+"
      ],
      "metadata": {
        "id": "vLCauezls1sB"
      }
    },
    {
      "cell_type": "code",
      "source": [
        "# Create a subset of the data with age >= 80\n",
        "eighty <- data[data$age >= 80, ]\n",
        "\n",
        "hist(eighty$age,\n",
        "     main = \"Age Histogram\",\n",
        "     xlab = \"Age\",\n",
        "     ylab = \"Frequency\",\n",
        "     col = \"blue\",\n",
        "     border = \"orange\")\n"
      ],
      "metadata": {
        "colab": {
          "base_uri": "https://localhost:8080/",
          "height": 437
        },
        "id": "C3JhO9tks7wh",
        "outputId": "8b068003-465f-49fe-cf29-67aa36f18e37"
      },
      "execution_count": 45,
      "outputs": [
        {
          "output_type": "display_data",
          "data": {
            "text/plain": [
              "Plot with title “Age Histogram”"
            ],
            "image/png": "[encoded data removed]"
          },
          "metadata": {
            "image/png": {
              "width": 420,
              "height": 420
            }
          }
        }
      ]
    },
    {
      "cell_type": "markdown",
      "source": [
        "From the histogram, I was able to see the frequency of people with ages over 80. Tied for the most frequent were the age groups of 80-82 and 88-90. In between those groups, there are not nearly as many people. The outlier of 90 is also shown in this histogram."
      ],
      "metadata": {
        "id": "2yfUSNwGtZWJ"
      }
    }
  ]
}